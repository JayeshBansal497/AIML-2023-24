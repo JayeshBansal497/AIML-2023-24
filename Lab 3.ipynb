{
 "cells": [
  {
   "cell_type": "code",
   "execution_count": 2,
   "id": "466bced5-08fe-4863-bc64-f8b3af11679e",
   "metadata": {},
   "outputs": [],
   "source": [
    "from collections import namedtuple, Counter, defaultdict\n",
    "import random\n",
    "import math\n",
    "import functools\n",
    "cache=functools.lru_cache(10**6)"
   ]
  },
  {
   "cell_type": "code",
   "execution_count": 3,
   "id": "4281eb93-c02f-4278-9a19-a8804e837c85",
   "metadata": {},
   "outputs": [],
   "source": [
    "class game:\n",
    "    def actions(self, state):\n",
    "        raise NotImplementedError\n",
    "    def result(self, state, move):\n",
    "        raise NotImplementedError\n",
    "    def is_terminal(self, state):\n",
    "        return not self.actions(state)\n",
    "    def utility(self, state, player):\n",
    "        raise NotImplementedError"
   ]
  },
  {
   "cell_type": "code",
   "execution_count": 5,
   "id": "c38bad2f-065c-48db-98fe-b74f3990fa5f",
   "metadata": {},
   "outputs": [],
   "source": [
    "def play_game(game, strategies: dict,verbose=False):\n",
    "    state=game.initial\n",
    "    while not game.is_terminal(state):\n",
    "        player=state.to_move\n",
    "        move=strategies[player](game, state)\n",
    "        state=game.result(state, move)\n",
    "        if verbose:\n",
    "            print('Player:',player,'Move:',move)\n",
    "            print(state)\n",
    "        return state"
   ]
  },
  {
   "cell_type": "code",
   "execution_count": null,
   "id": "7c304d7b-e150-47c1-a023-190e8dfaf15f",
   "metadata": {},
   "outputs": [],
   "source": [
    "def minmax(game, state):\n",
    "    player=state.to_move\n",
    "    def max_value(state):\n",
    "        if game.is_terminal(state):\n",
    "            return game.utility(state, player), None\n",
    "        v,move=-infinity,None\n",
    "        for a in game.actions(state):\n",
    "            v2, _ = min_value(game.result(state, a))\n",
    "            if v2>v:\n",
    "                v,move=v2,a\n",
    "            return v,move\n",
    "    def min_value(state):\n",
    "        if game.is_terminal(state):\n",
    "            return game.utility(state, player), None\n",
    "        v,move= +infinity,None\n",
    "        for a in game.actions(state):\n",
    "            v2, _ = max_value(game.result(state, a))\n",
    "            if v2<v:\n",
    "                v,move=v2,a\n",
    "            return v,move\n",
    "    return max_value(state)\n",
    "infinity=math.inf"
   ]
  },
  {
   "cell_type": "code",
   "execution_count": null,
   "id": "1a388634-0c1f-43fd-833b-1e4c906a825c",
   "metadata": {},
   "outputs": [],
   "source": [
    "class TicTacToe(game):\n",
    "    def __init__(self, height=3, width=3, k=3):\n",
    "        self.k=k\n",
    "        self.squares-{(x,y) for x in range(width) for y in range(height)}\n",
    "        self.initial=Board(height=height,width=width,to_move='X',utility=0)\n",
    "    def actions(self,board):\n",
    "        return self.squares-set(board)\n",
    "    def result(self, board square):\n",
    "        player=board.to_move\n",
    "        board=board.new({square:player},to_move=('O' if player=='X' else 'X')\n",
    "        win=k_in_row(board,player,square,self.k)\n",
    "        board.utility=(0 if not win else +1 if player=='X' else -1)\n",
    "        return board\n",
    "    def utility(self, board, player):"
   ]
  }
 ],
 "metadata": {
  "kernelspec": {
   "display_name": "Python 3 (ipykernel)",
   "language": "python",
   "name": "python3"
  },
  "language_info": {
   "codemirror_mode": {
    "name": "ipython",
    "version": 3
   },
   "file_extension": ".py",
   "mimetype": "text/x-python",
   "name": "python",
   "nbconvert_exporter": "python",
   "pygments_lexer": "ipython3",
   "version": "3.10.11"
  }
 },
 "nbformat": 4,
 "nbformat_minor": 5
}
