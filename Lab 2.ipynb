{
 "cells": [
  {
   "cell_type": "markdown",
   "id": "c63e74c1-f7c1-4aac-a06d-8c8b4f3c0735",
   "metadata": {},
   "source": [
    "Breadth First Search Algorithm"
   ]
  },
  {
   "cell_type": "code",
   "execution_count": 2,
   "id": "2cb67c3a-76be-4c0d-951b-419d8080f9d0",
   "metadata": {},
   "outputs": [],
   "source": [
    "import numpy as np"
   ]
  },
  {
   "cell_type": "code",
   "execution_count": 3,
   "id": "ccd00bc8-babf-4c63-b7db-e1d0e8d2364a",
   "metadata": {},
   "outputs": [
    {
     "name": "stdout",
     "output_type": "stream",
     "text": [
      "{0: [1, 3], 1: [0, 2, 3], 2: [1, 4, 5], 3: [0, 1, 4], 4: [2, 3, 5], 5: [2, 4], 6: []}\n"
     ]
    }
   ],
   "source": [
    "from queue import Queue\n",
    "graph={0:[1,3],1:[0,2,3],2:[1,4,5],3:[0,1,4],4:[2,3,5],5:[2,4],6:[]}\n",
    "print(graph)"
   ]
  },
  {
   "cell_type": "code",
   "execution_count": 18,
   "id": "40c879f3-0cd1-4bc0-8283-93b176b1f206",
   "metadata": {},
   "outputs": [
    {
     "name": "stdout",
     "output_type": "stream",
     "text": [
      "0-->1-->3-->"
     ]
    }
   ],
   "source": [
    "def bfs(graph,source,destination):\n",
    "    Q=Queue()\n",
    "    visited_vertices=set()\n",
    "    Q.put(source)\n",
    "    visited_vertices.update({source})\n",
    "    while not Q.empty():\n",
    "        vertex=Q.get()\n",
    "        print(vertex,end=\"-->\")\n",
    "        for u in graph[vertex]:\n",
    "            if u not in visited_vertices:\n",
    "                Q.put(u)\n",
    "                visited_vertices.update({u})\n",
    "        if vertex==destination:\n",
    "            return\n",
    "bfs(graph,0,3)"
   ]
  },
  {
   "cell_type": "markdown",
   "id": "bba61783-6d18-46e5-9d08-58bf07ef2d08",
   "metadata": {},
   "source": [
    "Depth First Search Alogrithm"
   ]
  },
  {
   "cell_type": "code",
   "execution_count": 1,
   "id": "b4eeb05f-c8c8-4da0-b12c-8d8c14170534",
   "metadata": {},
   "outputs": [],
   "source": [
    "import numpy as np"
   ]
  },
  {
   "cell_type": "code",
   "execution_count": 2,
   "id": "a37c817e-f264-4c45-a8e6-22b305e85b82",
   "metadata": {},
   "outputs": [
    {
     "name": "stdout",
     "output_type": "stream",
     "text": [
      "{'A': ['B', 'S'], 'B': ['A'], 'C': ['D', 'E', 'F', 'S'], 'D': ['C'], 'E': ['C', 'H'], 'F': ['C', 'G'], 'G': ['F', 'H', 'S'], 'H': ['E', 'G'], 'S': ['A', 'C', 'G']}\n"
     ]
    }
   ],
   "source": [
    "graph={'A':['B','S'],'B':['A'],'C':['D','E','F','S'],'D':['C'],'E':['C','H'],'F':['C','G'],'G':['F','H','S'],'H':['E','G'],'S':['A','C','G']}\n",
    "print(graph)"
   ]
  },
  {
   "cell_type": "code",
   "execution_count": 3,
   "id": "38013a4c-3247-4a70-a7e0-4e9c413d9a8d",
   "metadata": {},
   "outputs": [
    {
     "name": "stdout",
     "output_type": "stream",
     "text": [
      "['B', 'A', 'S', 'C', 'D', 'E', 'H', 'G', 'F']\n"
     ]
    }
   ],
   "source": [
    "def dfs(graph,node,visited):\n",
    "    if node not in visited:\n",
    "        visited.append(node)\n",
    "        for k in graph[node]:\n",
    "            dfs(graph,k,visited)\n",
    "    return visited\n",
    "visited=dfs(graph,'B',[])\n",
    "print(visited)"
   ]
  },
  {
   "cell_type": "code",
   "execution_count": null,
   "id": "86c206a5-8904-41e2-8a06-4d34e402d619",
   "metadata": {},
   "outputs": [],
   "source": [
    "A* Search Alogrithm"
   ]
  },
  {
   "cell_type": "code",
   "execution_count": null,
   "id": "656f9983-2516-4699-9dc7-563b8540cc18",
   "metadata": {},
   "outputs": [],
   "source": [
    "from copy import deepcopy\n",
    "import numpy as np\n",
    "import time"
   ]
  }
 ],
 "metadata": {
  "kernelspec": {
   "display_name": "Python 3 (ipykernel)",
   "language": "python",
   "name": "python3"
  },
  "language_info": {
   "codemirror_mode": {
    "name": "ipython",
    "version": 3
   },
   "file_extension": ".py",
   "mimetype": "text/x-python",
   "name": "python",
   "nbconvert_exporter": "python",
   "pygments_lexer": "ipython3",
   "version": "3.10.11"
  }
 },
 "nbformat": 4,
 "nbformat_minor": 5
}
